{
 "cells": [
  {
   "cell_type": "code",
   "execution_count": 0,
   "metadata": {
    "application/vnd.databricks.v1+cell": {
     "cellMetadata": {},
     "inputWidgets": {},
     "nuid": "d243dbd5-84ee-43c8-911b-b1dd4d417e2b",
     "showTitle": false,
     "title": ""
    }
   },
   "outputs": [],
   "source": [
    "from datetime import date, timedelta\n",
    "\n",
    "from pyspark.sql import SparkSession\n",
    "from pyspark.sql.types import StructType, StructField, StringType, IntegerType, FloatType\n",
    "import pyspark.sql.functions as F"
   ]
  },
  {
   "cell_type": "code",
   "execution_count": 0,
   "metadata": {
    "application/vnd.databricks.v1+cell": {
     "cellMetadata": {},
     "inputWidgets": {},
     "nuid": "1e9a3b37-e490-4f51-bc86-f43857db06a6",
     "showTitle": false,
     "title": ""
    }
   },
   "outputs": [],
   "source": [
    "####################################### ENVIRONMENT VARIABLES #######################################\n",
    "\n",
    "# Secrets from Azure Key Vault\n",
    "\n",
    "####################################### (JSON) FILES CREATION #######################################\n",
    "\n",
    "var_2_arrivals = dbutils.secrets.get(scope='FlightData-scope', key='var-2-arrivals')\n",
    "\n",
    "var_2_departures = dbutils.secrets.get(scope='FlightData-scope', key='var-2-departures') \n",
    "\n",
    "####################################### INGESTION & TRANSFORMATION #######################################\n",
    "\n",
    "client_id = dbutils.secrets.get(scope='FlightData-scope', key='client-id') \n",
    "tenant_id = dbutils.secrets.get(scope='FlightData-scope', key='tenant-id') \n",
    "client_secret = dbutils.secrets.get(scope='FlightData-scope', key='client-secret')\n",
    "\n",
    "storage_account = dbutils.secrets.get(scope='FlightData-scope', key='storage-account')\n",
    "storage_ingestion_container = dbutils.secrets.get(scope='FlightData-scope', key='storage-ingestion-container')\n",
    "storage_transformation_container = dbutils.secrets.get(scope='FlightData-scope', key='storage-transformation-container')"
   ]
  },
  {
   "cell_type": "code",
   "execution_count": 0,
   "metadata": {
    "application/vnd.databricks.v1+cell": {
     "cellMetadata": {},
     "inputWidgets": {},
     "nuid": "4a2325b8-0520-49e3-be80-71aeb23b10c5",
     "showTitle": false,
     "title": ""
    }
   },
   "outputs": [],
   "source": [
    "# Create Spark Session\n",
    "spark = SparkSession.builder.appName(\"FlightDataAnalysis\").getOrCreate()"
   ]
  },
  {
   "cell_type": "code",
   "execution_count": 0,
   "metadata": {
    "application/vnd.databricks.v1+cell": {
     "cellMetadata": {},
     "inputWidgets": {},
     "nuid": "b5fb274d-9737-40e1-8a2f-cc2922192603",
     "showTitle": false,
     "title": ""
    }
   },
   "outputs": [],
   "source": [
    "# Function to access (mount) the ADLS containers using Service Principals\n",
    "\n",
    "def mount_adls_using_sp(storage_account_name,storage_container_name):\n",
    "\n",
    "    # Set spark configurations\n",
    "    configs = {\"fs.azure.account.auth.type\": \"OAuth\",\n",
    "              \"fs.azure.account.oauth.provider.type\": \"org.apache.hadoop.fs.azurebfs.oauth2.ClientCredsTokenProvider\",\n",
    "              \"fs.azure.account.oauth2.client.id\": client_id,\n",
    "              \"fs.azure.account.oauth2.client.secret\": client_secret,\n",
    "              \"fs.azure.account.oauth2.client.endpoint\": f\"https://login.microsoftonline.com/{tenant_id}/oauth2/token\"}\n",
    "    \n",
    "    # Unmount the mount point if it already exists - needed if you are re-running function\n",
    "    if any(mount.mountPoint == f\"/mnt/{storage_account_name}/{storage_container_name}\" for mount in dbutils.fs.mounts()):\n",
    "        dbutils.fs.unmount(f\"/mnt/{storage_account_name}/{storage_container_name}\")\n",
    "    \n",
    "    # Defining mount to access data in ADLS\n",
    "    dbutils.fs.mount(\n",
    "        source = f\"abfss://{storage_container_name}@{storage_account_name}.dfs.core.windows.net/\",\n",
    "        mount_point = f\"/mnt/{storage_account_name}/{storage_container_name}\",\n",
    "        extra_configs = configs\n",
    "        )"
   ]
  }
 ],
 "metadata": {
  "application/vnd.databricks.v1+notebook": {
   "dashboards": [],
   "language": "python",
   "notebookMetadata": {
    "pythonIndentUnit": 4
   },
   "notebookName": "FlightData-commonconfigs",
   "widgets": {}
  }
 },
 "nbformat": 4,
 "nbformat_minor": 0
}
